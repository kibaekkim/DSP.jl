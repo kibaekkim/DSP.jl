{
 "cells": [
  {
   "cell_type": "markdown",
   "metadata": {},
   "source": [
    "# Farmers using the Branch-and-Bound on Dual Decomposition\n",
    "\n",
    "This note has been created by using Julia 1.0.1 and DSP (branch `dsp-bb`)."
   ]
  },
  {
   "cell_type": "markdown",
   "metadata": {},
   "source": [
    "## Required Packages"
   ]
  },
  {
   "cell_type": "code",
   "execution_count": 1,
   "metadata": {},
   "outputs": [
    {
     "name": "stderr",
     "output_type": "stream",
     "text": [
      "┌ Info: Precompiling Dsp [3f8b1f33-babd-5f87-a419-0f6725e165cf]\n",
      "└ @ Base loading.jl:1189\n",
      "┌ Warning: Package Dsp does not have MPI in its dependencies:\n",
      "│ - If you have Dsp checked out for development and have\n",
      "│   added MPI as a dependency but haven't updated your primary\n",
      "│   environment's manifest file, try `Pkg.resolve()`.\n",
      "│ - Otherwise you may need to report an issue with Dsp\n",
      "│ Loading MPI into Dsp from project dependency, future warnings for Dsp are suppressed.\n",
      "└ @ nothing nothing:837\n"
     ]
    }
   ],
   "source": [
    "using JuMP, Dsp"
   ]
  },
  {
   "cell_type": "markdown",
   "metadata": {},
   "source": [
    "## Parameters"
   ]
  },
  {
   "cell_type": "code",
   "execution_count": 2,
   "metadata": {},
   "outputs": [
    {
     "data": {
      "text/plain": [
       "1×3 Array{Int64,2}:\n",
       " 200  240  0"
      ]
     },
     "execution_count": 2,
     "metadata": {},
     "output_type": "execute_result"
    }
   ],
   "source": [
    "NS = 3;                        # number of scenarios\n",
    "probability = [1/3, 1/3, 1/3]; # probability\n",
    "\n",
    "CROPS  = 1:3 # set of crops (wheat, corn and sugar beets, resp.)\n",
    "PURCH  = 1:2 # set of crops to purchase (wheat and corn, resp.)\n",
    "SELL   = 1:4 # set of crops to sell (wheat, corn, sugar beets under 6K and those over 6K)\n",
    "\n",
    "Cost     = [150 230 260]   # cost of planting crops\n",
    "Budget   = 500             # budget capacity\n",
    "Purchase = [238 210];      # purchase price\n",
    "Sell     = [170 150 36 10] # selling price\n",
    "Yield    = [3.0 3.6 24.0;\n",
    "            2.5 3.0 20.0;\n",
    "            2.0 2.4 16.0]\n",
    "Minreq   = [200 240 0]     # minimum crop requirement"
   ]
  },
  {
   "cell_type": "markdown",
   "metadata": {},
   "source": [
    "## JuMP Model\n",
    "\n",
    "Note that the JuMP model is **different** from the one in `Farmers-DD` notebook. In particular, we need to define all the variables and the objective function in the master. Some of the variables are splitted into subproblems, whereas some are coupled in the master."
   ]
  },
  {
   "cell_type": "code",
   "execution_count": 3,
   "metadata": {},
   "outputs": [],
   "source": [
    "m = Model(NS)\n",
    "\n",
    "@variable(m, x[i=CROPS,s=1:NS] >= 0, Int)\n",
    "@variable(m, y[j=PURCH,s=1:NS] >= 0)\n",
    "@variable(m, w[k=SELL,s=1:NS] >= 0)\n",
    "@objective(m, Min, \n",
    "\t  sum(probability[s] * Cost[i] * x[i,s] for i=CROPS for s=1:NS)\n",
    "    + sum(probability[s] * Purchase[j] * y[j,s] for j=PURCH for s=1:NS) \n",
    "\t- sum(probability[s] * Sell[k] * w[k,s] for k=SELL for s=1:NS))\n",
    "@constraint(m, nonant1[i=CROPS,s=1], x[i,NS] - x[i,1] == 0)\n",
    "@constraint(m, nonant2[i=CROPS,s=2:NS], x[i,s-1] - x[i,s] == 0)\n",
    "\n",
    "for s in 1:NS\n",
    "    blk = Model(m, s, 1.0)\n",
    "\t@objective(blk, Min, 0)\n",
    "\t@constraint(blk, const_budget, sum(x[i,s] for i=CROPS) <= Budget)\n",
    "    @constraint(blk, const_minreq[j=PURCH], Yield[s,j] * x[j,s] + y[j,s] - w[j,s] >= Minreq[j])\n",
    "    @constraint(blk, const_minreq_beets, Yield[s,3] * x[3,s] - w[3,s] - w[4,s] >= Minreq[3])\n",
    "    @constraint(blk, const_aux, w[3,s] <= 6000)\n",
    "end"
   ]
  },
  {
   "cell_type": "markdown",
   "metadata": {},
   "source": [
    "### Query the master problem"
   ]
  },
  {
   "cell_type": "code",
   "execution_count": 4,
   "metadata": {},
   "outputs": [
    {
     "name": "stdout",
     "output_type": "stream",
     "text": [
      "Min 50 x[1,1] + 50 x[1,2] + 50 x[1,3] + 76.66666666666666 x[2,1] + 76.66666666666666 x[2,2] + 76.66666666666666 x[2,3] + 86.66666666666666 x[3,1] + 86.66666666666666 x[3,2] + 86.66666666666666 x[3,3] + 79.33333333333333 y[1,1] + 79.33333333333333 y[1,2] + 79.33333333333333 y[1,3] + 70 y[2,1] + 70 y[2,2] + 70 y[2,3] - 56.666666666666664 w[1,1] - 56.666666666666664 w[1,2] - 56.666666666666664 w[1,3] - 50 w[2,1] - 50 w[2,2] - 50 w[2,3] - 12 w[3,1] - 12 w[3,2] - 12 w[3,3] - 3.333333333333333 w[4,1] - 3.333333333333333 w[4,2] - 3.333333333333333 w[4,3]\n",
      "Subject to\n",
      " x[1,3] - x[1,1] = 0\n",
      " x[2,3] - x[2,1] = 0\n",
      " x[3,3] - x[3,1] = 0\n",
      " x[1,1] - x[1,2] = 0\n",
      " x[1,2] - x[1,3] = 0\n",
      " x[2,1] - x[2,2] = 0\n",
      " x[2,2] - x[2,3] = 0\n",
      " x[3,1] - x[3,2] = 0\n",
      " x[3,2] - x[3,3] = 0\n",
      " x[i,s] ≥ 0, integer, ∀ i ∈ {1,2,3}, s ∈ {1,2,3}\n",
      " y[j,s] ≥ 0 ∀ j ∈ {1,2}, s ∈ {1,2,3}\n",
      " w[k,s] ≥ 0 ∀ k ∈ {1,2,3,4}, s ∈ {1,2,3}\n"
     ]
    }
   ],
   "source": [
    "print(m)"
   ]
  },
  {
   "cell_type": "markdown",
   "metadata": {},
   "source": [
    "### Query a subproblem"
   ]
  },
  {
   "cell_type": "code",
   "execution_count": 5,
   "metadata": {},
   "outputs": [
    {
     "name": "stdout",
     "output_type": "stream",
     "text": [
      "Min 0\n",
      "Subject to\n",
      " x[1,1] + x[2,1] + x[3,1] ≤ 500\n",
      " 3 x[1,1] + y[1,1] - w[1,1] ≥ 200\n",
      " 3.6 x[2,1] + y[2,1] - w[2,1] ≥ 240\n",
      " 24 x[3,1] - w[3,1] - w[4,1] ≥ 0\n",
      " w[3,1] ≤ 6000\n"
     ]
    }
   ],
   "source": [
    "print(m.ext[:DspBlocks].children[1])"
   ]
  },
  {
   "cell_type": "markdown",
   "metadata": {},
   "source": [
    "## Branch-and-Bound Solution"
   ]
  },
  {
   "cell_type": "code",
   "execution_count": 6,
   "metadata": {},
   "outputs": [
    {
     "name": "stdout",
     "output_type": "stream",
     "text": [
      "Initializing subproblems ... \n",
      "Initializing master problem ... \n",
      "Initializing ALPS framework ... \n",
      "\n",
      "*** WARNING: Changed the branching method. The problem structure supports the integer branching method only. ***\n",
      "\n",
      "==  Welcome to the Abstract Library for Parallel Search (ALPS) \n",
      "==  Copyright 2000-2017 Lehigh University and others \n",
      "==  All Rights Reserved. \n",
      "==  Distributed under the Eclipse Public License 1.0 \n",
      "==  Version: Trunk (unstable) \n",
      "==  Build Date: Jul 23 2018\n",
      "Alps0250I Starting search ...\n",
      "Generated 3 initial columns. Initial dual bound -1.154000000000e+05\n",
      "Iteration   0: DW Bound +1.797693e+308, Best Dual -1.154000e+05 (gap Large %), nrows 3, ncols 12, timing (total 0.00, master 0.00, gencols 0.00), statue 3000\n",
      "Iteration   1: DW Bound +1.797693e+308, Best Dual -1.154000e+05 (gap Large %), nrows 6, ncols 12, timing (total 0.01, master 0.00, gencols 0.00), statue 3000\n",
      "Iteration   2: DW Bound -1.052861e+05, Best Dual -1.154000e+05 (gap 8.76 %), nrows 9, ncols 12, timing (total 0.01, master 0.00, gencols 0.01), statue 3000\n",
      "Iteration   3: DW Bound -1.066706e+05, Best Dual -1.137676e+05 (gap 6.24 %), nrows 12, ncols 12, timing (total 0.01, master 0.00, gencols 0.01), statue 3000\n",
      "Iteration   4: DW Bound -1.083900e+05, Best Dual -1.102523e+05 (gap 1.69 %), nrows 14, ncols 12, timing (total 0.01, master 0.00, gencols 0.01), statue 3000\n",
      "Iteration   5: DW Bound -1.083900e+05, Best Dual -1.083900e+05 (gap 0.00 %), nrows 14, ncols 12, timing (total 0.01, master 0.00, gencols 0.01), statue 3000\n",
      "Infeasibility: +8.526513e-14\n",
      "[0.014275] curLb -1.08390000e+05, curUb -1.08390000e+05, bestUb 1.00000000e+75, bestLb 1.00000000e+75\n",
      "Alps0240I Proc: 1, Part: 0, Cand: 0, Best N: 1e+75, Best S: -108390\n",
      "\n",
      "Alps0208I Search completed.\n",
      "Alps0260I Best solution found had quality -108390\n",
      "Alps0264I Number of nodes processed:                1\n",
      "Alps0267I Number of nodes branched:                 0\n",
      "Alps0268I Number of nodes pruned before processing: 0\n",
      "Alps0270I Number of nodes left:                     0\n",
      "Alps0272I Tree depth: 0\n",
      "Alps0274I Search CPU time: 0.01 seconds\n",
      "Alps0278I Search wall-clock time: 0.01 seconds\n"
     ]
    },
    {
     "data": {
      "text/plain": [
       ":Optimal"
      ]
     },
     "execution_count": 6,
     "metadata": {},
     "output_type": "execute_result"
    }
   ],
   "source": [
    "solve(m, solve_type=:BB)"
   ]
  },
  {
   "cell_type": "markdown",
   "metadata": {},
   "source": [
    "## Primal and Dual Bounds\n",
    "\n",
    "This aims to find a **global optimal** solution."
   ]
  },
  {
   "cell_type": "code",
   "execution_count": 7,
   "metadata": {},
   "outputs": [
    {
     "data": {
      "text/plain": [
       "(-108390.00000000001, -108390.00000000001)"
      ]
     },
     "execution_count": 7,
     "metadata": {},
     "output_type": "execute_result"
    }
   ],
   "source": [
    "(getprimobjval(), getdualobjval())"
   ]
  },
  {
   "cell_type": "markdown",
   "metadata": {},
   "source": [
    "## Primal Solution"
   ]
  },
  {
   "cell_type": "code",
   "execution_count": 8,
   "metadata": {},
   "outputs": [
    {
     "data": {
      "text/plain": [
       "27-element Array{Float64,1}:\n",
       "  170.0             \n",
       "  170.0             \n",
       "  170.0             \n",
       "   80.0             \n",
       "   80.0             \n",
       "   80.0             \n",
       "  250.0             \n",
       "  249.99999999999997\n",
       "  249.99999999999994\n",
       "    0.0             \n",
       "    0.0             \n",
       "    0.0             \n",
       "    0.0             \n",
       "    ⋮               \n",
       "  310.0             \n",
       "  225.00000000000006\n",
       "  140.00000000000003\n",
       "   48.00000000000005\n",
       "    0.0             \n",
       "    0.0             \n",
       " 6000.0             \n",
       " 5000.0             \n",
       " 3999.999999999999  \n",
       "    0.0             \n",
       "    0.0             \n",
       "    0.0             "
      ]
     },
     "execution_count": 8,
     "metadata": {},
     "output_type": "execute_result"
    }
   ],
   "source": [
    "getprimvalue()"
   ]
  },
  {
   "cell_type": "markdown",
   "metadata": {},
   "source": [
    "## Dual Solution\n",
    "\n",
    "There is no meaningful dual solution to report."
   ]
  },
  {
   "cell_type": "code",
   "execution_count": null,
   "metadata": {},
   "outputs": [],
   "source": []
  }
 ],
 "metadata": {
  "kernelspec": {
   "display_name": "Julia 1.0.1",
   "language": "julia",
   "name": "julia-1.0"
  },
  "language_info": {
   "file_extension": ".jl",
   "mimetype": "application/julia",
   "name": "julia",
   "version": "1.0.1"
  }
 },
 "nbformat": 4,
 "nbformat_minor": 2
}
