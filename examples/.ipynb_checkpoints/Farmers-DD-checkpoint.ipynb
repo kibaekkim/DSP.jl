{
 "cells": [
  {
   "cell_type": "markdown",
   "metadata": {},
   "source": [
    "# Farmers Using Dual Decomposition\n",
    "\n",
    "This note has been created by using Julia 1.0.1."
   ]
  },
  {
   "cell_type": "markdown",
   "metadata": {},
   "source": [
    "## Required packages"
   ]
  },
  {
   "cell_type": "code",
   "execution_count": 1,
   "metadata": {},
   "outputs": [
    {
     "name": "stderr",
     "output_type": "stream",
     "text": [
      "┌ Info: Precompiling Dsp [3f8b1f33-babd-5f87-a419-0f6725e165cf]\n",
      "└ @ Base loading.jl:1189\n",
      "┌ Warning: Package Dsp does not have MPI in its dependencies:\n",
      "│ - If you have Dsp checked out for development and have\n",
      "│   added MPI as a dependency but haven't updated your primary\n",
      "│   environment's manifest file, try `Pkg.resolve()`.\n",
      "│ - Otherwise you may need to report an issue with Dsp\n",
      "│ Loading MPI into Dsp from project dependency, future warnings for Dsp are suppressed.\n",
      "└ @ nothing nothing:837\n"
     ]
    }
   ],
   "source": [
    "using JuMP, Dsp"
   ]
  },
  {
   "cell_type": "markdown",
   "metadata": {},
   "source": [
    "## Parmeters"
   ]
  },
  {
   "cell_type": "code",
   "execution_count": 2,
   "metadata": {},
   "outputs": [
    {
     "data": {
      "text/plain": [
       "1×3 Array{Int64,2}:\n",
       " 200  240  0"
      ]
     },
     "execution_count": 2,
     "metadata": {},
     "output_type": "execute_result"
    }
   ],
   "source": [
    "NS = 3;                        # number of scenarios\n",
    "probability = [1/3, 1/3, 1/3]; # probability\n",
    "\n",
    "CROPS  = 1:3 # set of crops (wheat, corn and sugar beets, resp.)\n",
    "PURCH  = 1:2 # set of crops to purchase (wheat and corn, resp.)\n",
    "SELL   = 1:4 # set of crops to sell (wheat, corn, sugar beets under 6K and those over 6K)\n",
    "\n",
    "Cost     = [150 230 260]   # cost of planting crops\n",
    "Budget   = 500             # budget capacity\n",
    "Purchase = [238 210];      # purchase price\n",
    "Sell     = [170 150 36 10] # selling price\n",
    "Yield    = [3.0 3.6 24.0;\n",
    "            2.5 3.0 20.0;\n",
    "            2.0 2.4 16.0]\n",
    "Minreq   = [200 240 0]     # minimum crop requirement"
   ]
  },
  {
   "cell_type": "markdown",
   "metadata": {},
   "source": [
    "## JuMP Model"
   ]
  },
  {
   "cell_type": "code",
   "execution_count": 3,
   "metadata": {},
   "outputs": [],
   "source": [
    "m = Model(NS)\n",
    "\n",
    "@variable(m, 0 <= x[i=CROPS] <= 500, Int)\n",
    "@objective(m, Min, sum(Cost[i] * x[i] for i=CROPS))\n",
    "@constraint(m, const_budget, sum(x[i] for i=CROPS) <= Budget)\n",
    "\n",
    "for s in 1:NS\n",
    "    blk = Model(m, s, probability[s])\n",
    "\n",
    "    @variable(blk, y[j=PURCH] >= 0)\n",
    "    @variable(blk, w[k=SELL] >= 0)\n",
    "\n",
    "    @objective(blk, Min, sum(Purchase[j] * y[j] for j=PURCH) - sum(Sell[k] * w[k] for k=SELL))\n",
    "\n",
    "    @constraint(blk, const_minreq[j=PURCH], Yield[s,j] * x[j] + y[j] - w[j] >= Minreq[j])\n",
    "    @constraint(blk, const_minreq_beets, Yield[s,3] * x[3] - w[3] - w[4] >= Minreq[3])\n",
    "    @constraint(blk, const_aux, w[3] <= 6000)\n",
    "end"
   ]
  },
  {
   "cell_type": "markdown",
   "metadata": {},
   "source": [
    "### Query the master problem"
   ]
  },
  {
   "cell_type": "code",
   "execution_count": 4,
   "metadata": {},
   "outputs": [
    {
     "name": "stdout",
     "output_type": "stream",
     "text": [
      "Min 150 x[1] + 230 x[2] + 260 x[3]\n",
      "Subject to\n",
      " x[1] + x[2] + x[3] ≤ 500\n",
      " 0 ≤ x[i] ≤ 500, integer, ∀ i ∈ {1,2,3}\n"
     ]
    }
   ],
   "source": [
    "print(m)"
   ]
  },
  {
   "cell_type": "markdown",
   "metadata": {},
   "source": [
    "### Query a subproblem"
   ]
  },
  {
   "cell_type": "code",
   "execution_count": 5,
   "metadata": {},
   "outputs": [
    {
     "name": "stdout",
     "output_type": "stream",
     "text": [
      "Min 238 y[1] + 210 y[2] - 170 w[1] - 150 w[2] - 36 w[3] - 10 w[4]\n",
      "Subject to\n",
      " 3 x[1] + y[1] - w[1] ≥ 200\n",
      " 3.6 x[2] + y[2] - w[2] ≥ 240\n",
      " 24 x[3] - w[3] - w[4] ≥ 0\n",
      " w[3] ≤ 6000\n",
      " y[j] ≥ 0 ∀ j ∈ {1,2}\n",
      " w[k] ≥ 0 ∀ k ∈ {1,2,3,4}\n"
     ]
    }
   ],
   "source": [
    "print(m.ext[:DspBlocks].children[1])"
   ]
  },
  {
   "cell_type": "markdown",
   "metadata": {},
   "source": [
    "## Dual Decomposition Solution"
   ]
  },
  {
   "cell_type": "code",
   "execution_count": 6,
   "metadata": {},
   "outputs": [
    {
     "name": "stdout",
     "output_type": "stream",
     "text": [
      "\n",
      "DUAL DECOMPOSITION ITERATION INFORMATION:\n",
      "* master   = objective function value of the master problem.\n",
      "* primobj  = best primal objective function value.\n",
      "* dualobj  = best dual objective function value.\n",
      "* a.gap() = Approximate gap between master and dualobj.\n",
      "* d.gap() = Duality gap between primobj and dualobj.\n",
      "* times    = wall clock time in seconds.\n",
      "\n",
      "  iter         master        primobj        dualobj  a.gap(%)  d.gap(%)    time\n",
      " B   0  -1.153737e+05  -1.077010e+05  -1.154000e+05      0.02      7.15     0.0\n",
      " D   1  -1.153211e+05  -1.077010e+05  -1.153737e+05      0.05      7.12     0.0\n",
      " D   2  -1.152159e+05  -1.077010e+05  -1.153211e+05      0.09      7.08     0.0\n",
      " D   3  -1.150055e+05  -1.077010e+05  -1.152159e+05      0.18      6.98     0.0\n",
      " D   4  -1.145847e+05  -1.077010e+05  -1.150055e+05      0.37      6.78     0.0\n",
      " D   5  -1.137431e+05  -1.077010e+05  -1.145847e+05      0.74      6.39     0.0\n",
      " D   6  -1.120599e+05  -1.077010e+05  -1.137431e+05      1.50      5.61     0.0\n",
      " D   7  -1.106374e+05  -1.077010e+05  -1.129149e+05      2.06      4.84     0.0\n",
      " D   8  -1.091621e+05  -1.077010e+05  -1.123829e+05      2.95      4.35     0.0\n",
      "     9  -1.105731e+05  -1.077010e+05  -1.123829e+05      1.64      4.35     0.0\n",
      " D  10  -1.105315e+05  -1.077010e+05  -1.122986e+05      1.60      4.27     0.0\n",
      " D  11  -1.104888e+05  -1.077010e+05  -1.122833e+05      1.62      4.25     0.0\n",
      " D  12  -1.104461e+05  -1.077010e+05  -1.122689e+05      1.65      4.24     0.0\n",
      " D  13  -1.104035e+05  -1.077010e+05  -1.122545e+05      1.68      4.23     0.0\n",
      " D  14  -1.103608e+05  -1.077010e+05  -1.122401e+05      1.70      4.21     0.0\n",
      " D  15  -1.103181e+05  -1.077010e+05  -1.122258e+05      1.73      4.20     0.0\n",
      " D  16  -1.102755e+05  -1.077010e+05  -1.122114e+05      1.76      4.19     0.0\n",
      " D  17  -1.102328e+05  -1.077010e+05  -1.121970e+05      1.78      4.17     0.0\n",
      " D  18  -1.101902e+05  -1.077010e+05  -1.121826e+05      1.81      4.16     0.0\n",
      " D  19  -1.101475e+05  -1.077010e+05  -1.121682e+05      1.83      4.15     0.0\n",
      " D  20  -1.101048e+05  -1.077010e+05  -1.121538e+05      1.86      4.13     0.1\n",
      " D  21  -1.100622e+05  -1.077010e+05  -1.121395e+05      1.89      4.12     0.1\n",
      " D  22  -1.100195e+05  -1.077010e+05  -1.121251e+05      1.91      4.11     0.1\n",
      " D  23  -1.099769e+05  -1.077010e+05  -1.121107e+05      1.94      4.09     0.1\n",
      " D  24  -1.099342e+05  -1.077010e+05  -1.120963e+05      1.97      4.08     0.1\n",
      " D  25  -1.098915e+05  -1.077010e+05  -1.120819e+05      1.99      4.07     0.1\n",
      " D  26  -1.098489e+05  -1.077010e+05  -1.120675e+05      2.02      4.05     0.1\n",
      " D  27  -1.098062e+05  -1.077010e+05  -1.120531e+05      2.05      4.04     0.1\n",
      " D  28  -1.097636e+05  -1.077010e+05  -1.120388e+05      2.07      4.03     0.1\n",
      " D  29  -1.097209e+05  -1.077010e+05  -1.120244e+05      2.10      4.01     0.1\n",
      " D  30  -1.096782e+05  -1.077010e+05  -1.120100e+05      2.13      4.00     0.1\n",
      " D  31  -1.096356e+05  -1.077010e+05  -1.119956e+05      2.15      3.99     0.1\n",
      " D  32  -1.095929e+05  -1.077010e+05  -1.119812e+05      2.18      3.97     0.1\n",
      " D  33  -1.095503e+05  -1.077010e+05  -1.119668e+05      2.21      3.96     0.1\n",
      " D  34  -1.095076e+05  -1.077010e+05  -1.119525e+05      2.23      3.95     0.1\n",
      " D  35  -1.094649e+05  -1.077010e+05  -1.119381e+05      2.26      3.93     0.1\n",
      " D  36  -1.094223e+05  -1.077010e+05  -1.119237e+05      2.29      3.92     0.1\n",
      " D  37  -1.093796e+05  -1.077010e+05  -1.119093e+05      2.31      3.91     0.1\n",
      " D  38  -1.093370e+05  -1.077010e+05  -1.118949e+05      2.34      3.89     0.1\n",
      " D  39  -1.092943e+05  -1.077010e+05  -1.118805e+05      2.37      3.88     0.1\n",
      " D  40  -1.092516e+05  -1.077010e+05  -1.118661e+05      2.39      3.87     0.1\n",
      " D  41  -1.092090e+05  -1.077010e+05  -1.118518e+05      2.42      3.85     0.1\n",
      " D  42  -1.091663e+05  -1.077010e+05  -1.118374e+05      2.45      3.84     0.1\n",
      " D  43  -1.091237e+05  -1.077010e+05  -1.118230e+05      2.47      3.83     0.1\n",
      " D  44  -1.090810e+05  -1.077010e+05  -1.118086e+05      2.50      3.81     0.1\n",
      " D  45  -1.090383e+05  -1.077010e+05  -1.117942e+05      2.53      3.80     0.1\n",
      " D  46  -1.089957e+05  -1.077010e+05  -1.117798e+05      2.55      3.79     0.1\n",
      " D  47  -1.089530e+05  -1.077010e+05  -1.117655e+05      2.58      3.77     0.1\n",
      " D  48  -1.089104e+05  -1.077010e+05  -1.117511e+05      2.61      3.76     0.1\n",
      " D  49  -1.088677e+05  -1.077010e+05  -1.117367e+05      2.64      3.75     0.1\n",
      " D  50  -1.088250e+05  -1.077010e+05  -1.117223e+05      2.66      3.73     0.1\n",
      " D  51  -1.087824e+05  -1.077010e+05  -1.117079e+05      2.69      3.72     0.1\n",
      " D  52  -1.087397e+05  -1.077010e+05  -1.116935e+05      2.72      3.71     0.1\n",
      " D  53  -1.086971e+05  -1.077010e+05  -1.116791e+05      2.74      3.69     0.1\n",
      " D  54  -1.086544e+05  -1.077010e+05  -1.116648e+05      2.77      3.68     0.1\n",
      " D  55  -1.086117e+05  -1.077010e+05  -1.116504e+05      2.80      3.67     0.1\n",
      " D  56  -1.085691e+05  -1.077010e+05  -1.116360e+05      2.82      3.65     0.1\n",
      " D  57  -1.085264e+05  -1.077010e+05  -1.116216e+05      2.85      3.64     0.1\n",
      " D  58  -1.084838e+05  -1.077010e+05  -1.116072e+05      2.88      3.63     0.1\n",
      " D  59  -1.084411e+05  -1.077010e+05  -1.115928e+05      2.91      3.61     0.1\n",
      " D  60  -1.083984e+05  -1.077010e+05  -1.115817e+05      2.94      3.60     0.1\n",
      "    61  -1.111225e+05  -1.077010e+05  -1.115817e+05      0.41      3.60     0.1\n",
      " D  62  -1.103400e+05  -1.077010e+05  -1.109488e+05      0.55      3.02     0.1\n",
      " D  63  -1.096753e+05  -1.077010e+05  -1.103023e+05      0.57      2.42     0.1\n",
      " D  64  -1.090268e+05  -1.077010e+05  -1.096677e+05      0.59      1.83     0.1\n",
      "    65  -1.095919e+05  -1.077010e+05  -1.096677e+05      0.07      1.83     0.1\n",
      " D  66  -1.094137e+05  -1.077010e+05  -1.095690e+05      0.14      1.73     0.2\n",
      " D  67  -1.092461e+05  -1.077010e+05  -1.094040e+05      0.14      1.58     0.2\n",
      " D  68  -1.091651e+05  -1.077010e+05  -1.092436e+05      0.07      1.43     0.2\n",
      " D  69  -1.091013e+05  -1.077010e+05  -1.091648e+05      0.06      1.36     0.2\n",
      " D  70  -1.090372e+05  -1.077010e+05  -1.091010e+05      0.06      1.30     0.2\n",
      " D  71  -1.089732e+05  -1.077010e+05  -1.090371e+05      0.06      1.24     0.2\n",
      " D  72  -1.089092e+05  -1.077010e+05  -1.089732e+05      0.06      1.18     0.2\n",
      " D  73  -1.087812e+05  -1.077010e+05  -1.089092e+05      0.12      1.12     0.2\n",
      " D  74  -1.085252e+05  -1.077010e+05  -1.087812e+05      0.24      1.00     0.2\n",
      " D  75  -1.083900e+05  -1.077010e+05  -1.085252e+05      0.12      0.77     0.2\n",
      " D  76  -1.083900e+05  -1.077010e+05  -1.083900e+05      0.00      0.64     0.2\n",
      "Tr  STOP with gap tolerance +0.000000e+00 (0.00%).\n"
     ]
    },
    {
     "data": {
      "text/plain": [
       ":Optimal"
      ]
     },
     "execution_count": 6,
     "metadata": {},
     "output_type": "execute_result"
    }
   ],
   "source": [
    "solve(m)"
   ]
  },
  {
   "cell_type": "markdown",
   "metadata": {},
   "source": [
    "## Primal and Dual Bounds\n",
    "\n",
    "There is a duality gap, because the dual decompositino does not guarantee to find a global optimum. The primal bound is obtained by a simple heuristic."
   ]
  },
  {
   "cell_type": "code",
   "execution_count": 7,
   "metadata": {},
   "outputs": [
    {
     "data": {
      "text/plain": [
       "(-107700.99999999999, -108390.0)"
      ]
     },
     "execution_count": 7,
     "metadata": {},
     "output_type": "execute_result"
    }
   ],
   "source": [
    "(getprimobjval(), getdualobjval())"
   ]
  },
  {
   "cell_type": "markdown",
   "metadata": {},
   "source": [
    "## Display Dual Variable Values"
   ]
  },
  {
   "cell_type": "code",
   "execution_count": 8,
   "metadata": {},
   "outputs": [
    {
     "data": {
      "text/plain": [
       "9-element Array{Float64,1}:\n",
       "  46.53338303892843  \n",
       "  29.866716372262033 \n",
       " -57.1332836277383   \n",
       " -12.024044703063884 \n",
       " -23.35737803639756  \n",
       "  49.642621963602835 \n",
       " -34.50933833586454  \n",
       "  -6.509338335864472 \n",
       "   7.4906616641354695"
      ]
     },
     "execution_count": 8,
     "metadata": {},
     "output_type": "execute_result"
    }
   ],
   "source": [
    "getdualvalue()"
   ]
  },
  {
   "cell_type": "code",
   "execution_count": null,
   "metadata": {},
   "outputs": [],
   "source": []
  }
 ],
 "metadata": {
  "kernelspec": {
   "display_name": "Julia 1.0.1",
   "language": "julia",
   "name": "julia-1.0"
  },
  "language_info": {
   "file_extension": ".jl",
   "mimetype": "application/julia",
   "name": "julia",
   "version": "1.0.1"
  }
 },
 "nbformat": 4,
 "nbformat_minor": 2
}
